{
 "cells": [
  {
   "cell_type": "code",
   "execution_count": 1,
   "metadata": {},
   "outputs": [],
   "source": [
    "import requests\n",
    "import pandas as pd\n",
    "import numpy as np\n",
    "import json"
   ]
  },
  {
   "cell_type": "code",
   "execution_count": 2,
   "metadata": {},
   "outputs": [],
   "source": [
    "url = 'https://raw.githubusercontent.com/datasets/geo-countries/master/data/countries.geojson'\n",
    "df = requests.get(url).json()"
   ]
  },
  {
   "cell_type": "code",
   "execution_count": 3,
   "metadata": {},
   "outputs": [],
   "source": [
    "#df['features']"
   ]
  },
  {
   "cell_type": "code",
   "execution_count": 4,
   "metadata": {},
   "outputs": [],
   "source": [
    "locations = [(df['features'][i]['properties']['ADMIN']) for i in range(len(df['features']))]\n",
    "locations = pd.Series(locations)\n",
    "#locations"
   ]
  },
  {
   "cell_type": "code",
   "execution_count": 5,
   "metadata": {},
   "outputs": [],
   "source": [
    "#df['features'][150]"
   ]
  },
  {
   "cell_type": "code",
   "execution_count": 6,
   "metadata": {},
   "outputs": [],
   "source": [
    "csv = pd.read_csv('mapsDataBase.csv')\n",
    "#csv['country']"
   ]
  },
  {
   "cell_type": "code",
   "execution_count": 7,
   "metadata": {},
   "outputs": [],
   "source": [
    "condition = locations.isin(csv['country'])\n",
    "#condition"
   ]
  },
  {
   "cell_type": "code",
   "execution_count": 8,
   "metadata": {},
   "outputs": [],
   "source": [
    "res_true, res_false = [], [] \n",
    "for i in range(0, len(condition)): \n",
    "    if condition[i]: \n",
    "        res_true.append(i) \n",
    "    else :\n",
    "        res_false.append(i) "
   ]
  },
  {
   "cell_type": "code",
   "execution_count": 9,
   "metadata": {},
   "outputs": [
    {
     "name": "stdout",
     "output_type": "stream",
     "text": [
      "183 72\n"
     ]
    }
   ],
   "source": [
    "print(len(res_true), len(res_false))"
   ]
  },
  {
   "cell_type": "code",
   "execution_count": 10,
   "metadata": {},
   "outputs": [],
   "source": [
    "#res_false[0]"
   ]
  },
  {
   "cell_type": "code",
   "execution_count": 11,
   "metadata": {},
   "outputs": [],
   "source": [
    "#df['features'][res_false[0]]['properties']['ADMIN']"
   ]
  },
  {
   "cell_type": "code",
   "execution_count": 12,
   "metadata": {},
   "outputs": [],
   "source": [
    "locationsWithData = [(df['features'][i]) for i in res_true]\n",
    "#locationsWithData"
   ]
  },
  {
   "cell_type": "code",
   "execution_count": 13,
   "metadata": {},
   "outputs": [],
   "source": [
    "locationsWithDataLocations = [(locationsWithData[i]['properties']['ADMIN']) for i in range(len(locationsWithData))]\n",
    "locationsWithDataLocations = pd.Series(locationsWithDataLocations)\n",
    "#locationsWithDataLocations"
   ]
  },
  {
   "cell_type": "code",
   "execution_count": 14,
   "metadata": {},
   "outputs": [],
   "source": [
    "#locationsWithData[162]['properties']['ADMIN']"
   ]
  },
  {
   "cell_type": "code",
   "execution_count": 15,
   "metadata": {},
   "outputs": [],
   "source": [
    "#csv['country'][190]"
   ]
  },
  {
   "cell_type": "code",
   "execution_count": 16,
   "metadata": {},
   "outputs": [],
   "source": [
    "condition2 = csv['country'].isin(locationsWithDataLocations)\n",
    "#condition2"
   ]
  },
  {
   "cell_type": "code",
   "execution_count": 17,
   "metadata": {},
   "outputs": [],
   "source": [
    "res_true2, res_false2 = [], [] \n",
    "for i in range(0, len(condition2)): \n",
    "    if condition2[i]: \n",
    "        res_true2.append(i) \n",
    "    else :\n",
    "        res_false2.append(i) "
   ]
  },
  {
   "cell_type": "code",
   "execution_count": 18,
   "metadata": {},
   "outputs": [
    {
     "name": "stdout",
     "output_type": "stream",
     "text": [
      "183 0\n"
     ]
    }
   ],
   "source": [
    "print(len(res_true2), len(res_false2))"
   ]
  },
  {
   "cell_type": "code",
   "execution_count": 19,
   "metadata": {},
   "outputs": [],
   "source": [
    "#res_false2[0]"
   ]
  },
  {
   "cell_type": "code",
   "execution_count": 20,
   "metadata": {},
   "outputs": [],
   "source": [
    "dataWithLocations = [(locationsWithData[i]) for i in range(0,len(res_true2))]\n",
    "#dataWithLocations"
   ]
  },
  {
   "cell_type": "code",
   "execution_count": 21,
   "metadata": {},
   "outputs": [],
   "source": [
    "with open('mapFillGEOJSON.txt', 'w') as filehandle:\n",
    "    json.dump(dataWithLocations, filehandle, indent=2)"
   ]
  },
  {
   "cell_type": "code",
   "execution_count": null,
   "metadata": {},
   "outputs": [],
   "source": []
  },
  {
   "cell_type": "code",
   "execution_count": null,
   "metadata": {},
   "outputs": [],
   "source": []
  },
  {
   "cell_type": "code",
   "execution_count": 22,
   "metadata": {},
   "outputs": [],
   "source": [
    "geoPopulation = csv['population']\n",
    "geoGDP = csv['gdp']\n",
    "geoTradeBalance = csv['trade_balance']\n",
    "geoTopImporter = csv['top_importer']\n",
    "geoImportValue = csv['import_value']\n",
    "geoTopExporter = csv['top_exporter']\n",
    "geoExportValue = csv['export_value']"
   ]
  },
  {
   "cell_type": "code",
   "execution_count": 23,
   "metadata": {},
   "outputs": [],
   "source": [
    "with open('mapFillGEOJSON.txt') as f:\n",
    "    data = json.load(f)"
   ]
  },
  {
   "cell_type": "code",
   "execution_count": 25,
   "metadata": {},
   "outputs": [],
   "source": [
    "for i in range(len(data)):\n",
    "    data[i]['properties']['population'] = int(geoPopulation[i])\n",
    "    data[i]['properties']['gdp'] = int(geoGDP[i])\n",
    "    data[i]['properties']['trade_balance'] = int(geoTradeBalance[i])\n",
    "    data[i]['properties']['top_importer'] = geoTopImporter[i]\n",
    "    data[i]['properties']['import_value'] = int(geoImportValue[i])\n",
    "    data[i]['properties']['top_exporter'] = geoTopExporter[i]\n",
    "    data[i]['properties']['export_value'] = int(geoExportValue[i])"
   ]
  },
  {
   "cell_type": "code",
   "execution_count": 28,
   "metadata": {},
   "outputs": [],
   "source": [
    "with open('mapData.json', 'w') as filehandle:\n",
    "    json.dump(data, filehandle, indent=2)"
   ]
  },
  {
   "cell_type": "code",
   "execution_count": null,
   "metadata": {},
   "outputs": [],
   "source": [
    "data"
   ]
  }
 ],
 "metadata": {
  "kernelspec": {
   "display_name": "Python 3",
   "language": "python",
   "name": "python3"
  },
  "language_info": {
   "codemirror_mode": {
    "name": "ipython",
    "version": 3
   },
   "file_extension": ".py",
   "mimetype": "text/x-python",
   "name": "python",
   "nbconvert_exporter": "python",
   "pygments_lexer": "ipython3",
   "version": "3.7.6"
  }
 },
 "nbformat": 4,
 "nbformat_minor": 4
}
